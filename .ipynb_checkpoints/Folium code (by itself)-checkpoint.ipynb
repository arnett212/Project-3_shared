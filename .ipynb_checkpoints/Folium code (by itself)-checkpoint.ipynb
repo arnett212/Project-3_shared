{
 "cells": [
  {
   "cell_type": "code",
   "execution_count": 2,
   "id": "8e89b131-92d1-4dc1-b96d-0dee9cf934b4",
   "metadata": {},
   "outputs": [
    {
     "name": "stdout",
     "output_type": "stream",
     "text": [
      "Map saved to ufo_map.html\n"
     ]
    }
   ],
   "source": [
    "import folium\n",
    "import pandas as pd\n",
    "\n",
    "# Load the data\n",
    "file_path = 'ufo_final 10k lines.csv'\n",
    "ufo_data = pd.read_csv(file_path)\n",
    "\n",
    "# Initialize a map centered on an approximate middle location of the dataset\n",
    "ufo_map = folium.Map(location=[37.6, -95.665], zoom_start=4)  # Centered on the USA\n",
    "\n",
    "# Add UFO sightings to the map\n",
    "for index, row in ufo_data.iterrows():\n",
    "    try:\n",
    "        # Extract coordinates\n",
    "        latitude = row['latitude']\n",
    "        longitude = row['longitude']\n",
    "\n",
    "        # Extract details for the popup\n",
    "        city = row['city']\n",
    "        state = row['state']\n",
    "        shape = row['shape']\n",
    "        duration = row['duration (hours/min)']\n",
    "        comments = row['comments']\n",
    "\n",
    "        popup_text = f\"City: {city}, {state}<br>Shape: {shape}<br>Duration: {duration}<br>Comments: {comments}\"\n",
    "# Add marker to the map\n",
    "        folium.Marker(\n",
    "            location=[latitude, longitude],\n",
    "            popup=folium.Popup(popup_text, max_width=300),\n",
    "            icon=folium.Icon(color='blue', icon='info-sign')\n",
    "        ).add_to(ufo_map)\n",
    "    except Exception as e:\n",
    "        # Skip rows with missing or invalid data\n",
    "        continue\n",
    "\n",
    "# Save the map to an HTML file\n",
    "output_file = 'ufo_map.html'\n",
    "ufo_map.save(output_file)\n",
    "\n",
    "print(f\"Map saved to {output_file}\")"
   ]
  },
  {
   "cell_type": "code",
   "execution_count": null,
   "id": "aa160bbd-09cb-46fe-9d04-6d44beb02226",
   "metadata": {},
   "outputs": [],
   "source": []
  }
 ],
 "metadata": {
  "kernelspec": {
   "display_name": "Python 3 (ipykernel)",
   "language": "python",
   "name": "python3"
  },
  "language_info": {
   "codemirror_mode": {
    "name": "ipython",
    "version": 3
   },
   "file_extension": ".py",
   "mimetype": "text/x-python",
   "name": "python",
   "nbconvert_exporter": "python",
   "pygments_lexer": "ipython3",
   "version": "3.12.7"
  }
 },
 "nbformat": 4,
 "nbformat_minor": 5
}
