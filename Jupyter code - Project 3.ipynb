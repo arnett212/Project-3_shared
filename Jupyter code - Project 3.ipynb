{
 "cells": [
  {
   "cell_type": "code",
   "execution_count": 9,
   "id": "bdff4d7b-c794-4466-a076-4cda126cc5d7",
   "metadata": {},
   "outputs": [
    {
     "name": "stdout",
     "output_type": "stream",
     "text": [
      "Requirement already satisfied: folium in c:\\users\\zacha\\anaconda3\\lib\\site-packages (0.19.2)\n",
      "Requirement already satisfied: branca>=0.6.0 in c:\\users\\zacha\\anaconda3\\lib\\site-packages (from folium) (0.8.1)\n",
      "Requirement already satisfied: jinja2>=2.9 in c:\\users\\zacha\\anaconda3\\lib\\site-packages (from folium) (3.1.4)\n",
      "Requirement already satisfied: numpy in c:\\users\\zacha\\anaconda3\\lib\\site-packages (from folium) (1.26.4)\n",
      "Requirement already satisfied: requests in c:\\users\\zacha\\anaconda3\\lib\\site-packages (from folium) (2.32.2)\n",
      "Requirement already satisfied: xyzservices in c:\\users\\zacha\\anaconda3\\lib\\site-packages (from folium) (2022.9.0)\n",
      "Requirement already satisfied: MarkupSafe>=2.0 in c:\\users\\zacha\\anaconda3\\lib\\site-packages (from jinja2>=2.9->folium) (2.1.3)\n",
      "Requirement already satisfied: charset-normalizer<4,>=2 in c:\\users\\zacha\\anaconda3\\lib\\site-packages (from requests->folium) (2.0.4)\n",
      "Requirement already satisfied: idna<4,>=2.5 in c:\\users\\zacha\\anaconda3\\lib\\site-packages (from requests->folium) (3.7)\n",
      "Requirement already satisfied: urllib3<3,>=1.21.1 in c:\\users\\zacha\\anaconda3\\lib\\site-packages (from requests->folium) (1.26.20)\n",
      "Requirement already satisfied: certifi>=2017.4.17 in c:\\users\\zacha\\anaconda3\\lib\\site-packages (from requests->folium) (2024.8.30)\n",
      "Collecting psycopg2-binary\n",
      "  Downloading psycopg2_binary-2.9.10-cp312-cp312-win_amd64.whl.metadata (5.0 kB)\n",
      "Downloading psycopg2_binary-2.9.10-cp312-cp312-win_amd64.whl (1.2 MB)\n",
      "   ---------------------------------------- 0.0/1.2 MB ? eta -:--:--\n",
      "   ---------------------------------------- 0.0/1.2 MB ? eta -:--:--\n",
      "   -- ------------------------------------- 0.1/1.2 MB 825.8 kB/s eta 0:00:02\n",
      "   -------- ------------------------------- 0.2/1.2 MB 2.1 MB/s eta 0:00:01\n",
      "   ----------------------- ---------------- 0.7/1.2 MB 3.9 MB/s eta 0:00:01\n",
      "   ---------------------------------------- 1.2/1.2 MB 6.2 MB/s eta 0:00:00\n",
      "Installing collected packages: psycopg2-binary\n",
      "Successfully installed psycopg2-binary-2.9.10\n"
     ]
    }
   ],
   "source": [
    "# Dependencies\n",
    "!pip install folium\n",
    "!pip install psycopg2-binary\n",
    "import pandas as pd\n",
    "import matplotlib.pyplot as plt\n",
    "import plotly\n",
    "import folium\n",
    "import flask\n",
    "import psycopg2 #PostgreSQL adapter\n"
   ]
  },
  {
   "cell_type": "code",
   "execution_count": 10,
   "id": "70ef0fb1-456d-426f-b39a-a55647b4a982",
   "metadata": {},
   "outputs": [
    {
     "name": "stdout",
     "output_type": "stream",
     "text": [
      "   Unnamed: 0          datetime        city state country     shape  \\\n",
      "0           0  10/10/1949 20:30  san marcos    tx      us  cylinder   \n",
      "1           3  10/10/1956 21:00        edna    tx      us    circle   \n",
      "2           4  10/10/1960 20:00     kaneohe    hi      us     light   \n",
      "3           5  10/10/1961 19:00     bristol    tn      us    sphere   \n",
      "4           7  10/10/1965 23:45     norwalk    ct      us      disk   \n",
      "\n",
      "  duration (seconds) duration (hours/min)  \\\n",
      "0               2700           45 minutes   \n",
      "1                 20             1/2 hour   \n",
      "2                900           15 minutes   \n",
      "3                300            5 minutes   \n",
      "4               1200           20 minutes   \n",
      "\n",
      "                                            comments date posted   latitude  \\\n",
      "0  This event took place in early fall around 194...   4/27/2004  29.883056   \n",
      "1  My older brother and twin sister were leaving ...   1/17/2004  28.978333   \n",
      "2  AS a Marine 1st Lt. flying an FJ4B fighter/att...   1/22/2004  21.418056   \n",
      "3  My father is now 89 my brother 52 the girl wit...   4/27/2007  36.595000   \n",
      "4  A bright orange color changing to reddish colo...   10/2/1999  41.117500   \n",
      "\n",
      "   longitude   \n",
      "0  -97.941111  \n",
      "1  -96.645833  \n",
      "2 -157.803611  \n",
      "3  -82.188889  \n",
      "4  -73.408333  \n"
     ]
    },
    {
     "name": "stderr",
     "output_type": "stream",
     "text": [
      "C:\\Users\\zacha\\AppData\\Local\\Temp\\ipykernel_18852\\669493768.py:3: DtypeWarning: Columns (6) have mixed types. Specify dtype option on import or set low_memory=False.\n",
      "  ufo_data = pd.read_csv(file_path)\n"
     ]
    }
   ],
   "source": [
    "# Reading in CSV file and testing to make sure data is reading in correctly\n",
    "file_path = 'ufo_final.csv'\n",
    "ufo_data = pd.read_csv(file_path)\n",
    "print(ufo_data.head())"
   ]
  },
  {
   "cell_type": "code",
   "execution_count": null,
   "id": "53820723-3e44-430e-9ac1-5d4dc80a06ca",
   "metadata": {},
   "outputs": [],
   "source": [
    "#Chase - Visualization\n"
   ]
  },
  {
   "cell_type": "code",
   "execution_count": null,
   "id": "42a01431-523b-4fe0-85f1-9fdc146bb820",
   "metadata": {},
   "outputs": [],
   "source": [
    "#Zach - Visualization\n"
   ]
  },
  {
   "cell_type": "code",
   "execution_count": null,
   "id": "cab4ff5b-42a6-4d7f-aaec-8ed148451246",
   "metadata": {},
   "outputs": [],
   "source": [
    "#Jeff - Visualization\n"
   ]
  }
 ],
 "metadata": {
  "kernelspec": {
   "display_name": "Python 3 (ipykernel)",
   "language": "python",
   "name": "python3"
  },
  "language_info": {
   "codemirror_mode": {
    "name": "ipython",
    "version": 3
   },
   "file_extension": ".py",
   "mimetype": "text/x-python",
   "name": "python",
   "nbconvert_exporter": "python",
   "pygments_lexer": "ipython3",
   "version": "3.12.3"
  }
 },
 "nbformat": 4,
 "nbformat_minor": 5
}
